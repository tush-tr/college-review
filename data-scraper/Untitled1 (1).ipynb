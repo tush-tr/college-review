{
  "nbformat": 4,
  "nbformat_minor": 0,
  "metadata": {
    "colab": {
      "name": "Untitled1.ipynb",
      "provenance": [],
      "collapsed_sections": []
    },
    "kernelspec": {
      "name": "python3",
      "display_name": "Python 3"
    }
  },
  "cells": [
    {
      "cell_type": "code",
      "metadata": {
        "id": "R9_tQ0tC6LDo"
      },
      "source": [
        "from bs4 import BeautifulSoup\n",
        "import requests\n",
        "import lxml\n",
        "import urllib.request, urllib.parse, urllib.error\n",
        "import pandas as pd"
      ],
      "execution_count": null,
      "outputs": []
    },
    {
      "cell_type": "code",
      "metadata": {
        "id": "q1FOUOua6RRn"
      },
      "source": [
        "url = \"https://collegedunia.com/reviews?stream=10\""
      ],
      "execution_count": null,
      "outputs": []
    },
    {
      "cell_type": "code",
      "metadata": {
        "id": "Cn8ATMLU62td"
      },
      "source": [
        "open_ln = requests.get(url)"
      ],
      "execution_count": null,
      "outputs": []
    },
    {
      "cell_type": "code",
      "metadata": {
        "id": "ZNHPnycU7HEF"
      },
      "source": [
        "soup = BeautifulSoup(open_ln.content, \"html.parser\")"
      ],
      "execution_count": null,
      "outputs": []
    },
    {
      "cell_type": "code",
      "metadata": {
        "id": "D7vKt0B06Bbg"
      },
      "source": [
        "results = soup.find(id=\"js-reviews-pagination\")"
      ],
      "execution_count": null,
      "outputs": []
    },
    {
      "cell_type": "code",
      "metadata": {
        "id": "v9vw-IuR7owI"
      },
      "source": [
        "# mydivs = soup.find_all(\"div\",{\"class\":\"review_page\"})"
      ],
      "execution_count": null,
      "outputs": []
    },
    {
      "cell_type": "code",
      "metadata": {
        "id": "OhDPLLN38-Ux"
      },
      "source": [
        "review_blocks = results.find_all('div', class_='review_block')"
      ],
      "execution_count": null,
      "outputs": []
    },
    {
      "cell_type": "code",
      "metadata": {
        "id": "mCTd1rMWv4hj",
        "colab": {
          "base_uri": "https://localhost:8080/"
        },
        "outputId": "a09dac53-7afa-4558-aef4-4152a3ba3774"
      },
      "source": [
        "li = []\r\n",
        "dic = {}\r\n",
        "for i in review_blocks:\r\n",
        "  review_for = i.find('div',class_='review_for')\r\n",
        "  links = review_for.find('a')\r\n",
        "  reviewsets = i.find('div',class_=\"review_sets\")\r\n",
        "  right = reviewsets.find('div',class_=\"right_side\")\r\n",
        "  reviewer = right.find('div',class_=\"reviewer_review\")\r\n",
        "  # print(\"College Name: \",links.text)\r\n",
        "  # print(\"Reviews: \",reviewer.text)\r\n",
        "  block = f\"College Name: {links.text} Reviews: {reviewer.text}\"\r\n",
        "  # st = reviewer.t\r\n",
        "  bd = {\r\n",
        "      \"College Name\": links.text,\r\n",
        "      \"Reviews\": reviewer.text\r\n",
        "  }\r\n",
        "  # print(block)\r\n",
        "  li.append(bd)\r\n",
        "  print(bd)\r\n",
        "\r\n",
        "  \r\n",
        "  "
      ],
      "execution_count": 61,
      "outputs": [
        {
          "output_type": "stream",
          "text": [
            "{'College Name': ' Ramrao Adik Institute of Technology - [RAIT], Navi Mumbai', 'Reviews': 'Campus Life -1. It is a great platform to showcase your talent, whether it is related to technology or fine arts. There are about 15 councils in the college, which organize events and workshops like tech fests, technical workshops, dance, music, fine arts, drama, play, sports and whatnot. Right at the top of these councils is the Student Union Council, or abbreviated as SUC. It is the apex student body of the college. The SUC is the body to go-to for any grievances. It also organizes the annual cultural fest... Course Curriculum -1.  The most important reason for choosing Electronics branch because it provides me with freedom. the freedom to drift between the hardware field and software field.\\r\\n2. Teacher students ratio is kept to maintain a better quality of education, better understanding, better teaching. It is maintained to keep teacher and learner active. If the ideal ratio is kept, it becomes easy for a teacher to give the better result and to give better attention to the students.\\r\\n3. All the teachers are very hel... Placement -1.Students become eligible for campus placements from sem 6 if you are not having any backlogs.\\r\\n2.TCS, Wipro, Tech Mahindra, JP Morgan, Morgan Stanley, BYJUS, L&T Infotech and many more MNC companies visited the campus.\\r\\n3.The highest package offered was 15lap and the average package that students get is 3.0 LPA.\\r\\n4.The percentage of students getting placed from campus is 90%\\r\\n5.Getting a job in a reputed organization where I can utilize my skills for the betterment of the organization. '}\n",
            "{'College Name': ' Maharaja Agrasen Institute of Technology - [MAIT], New Delhi', 'Reviews': \"Campus Life -They have possible every lab in our campus whether it is technical, management, the moot court for law students, a smart class for architecture ones, chemistry lab for pharmacy students, and workshop for engineering dept. They organise several extracurricular activities on regular basis. They also organise the sports meet every year and have several courts and ground on the campus itself. Scholarship -Fee Structure is almost the same for all branches i.e Around 1.31 Lakh per year.\\r\\nScholarship opportunities are available for qualified and deserving students. You'll get to know about that by respective Faculties. Jobs are also available good placement as compared to other IP University. Course Curriculum -Faculty for the respective courses are well experienced and have very good knowledge in their fields. The lab attendants are also well experienced from the companies itself. Librarian, technician, attendants all are very helping and cooperative. \"}\n",
            "{'College Name': ' NBKR Institute of Science and Technology Vidyanagar - [NBKRIST], Nellore', 'Reviews': 'Campus Life -*fest is conducted every month. The names are changed according to year\\r\\n*All  books are available in the library and journals are also available in the library for better study\\r\\n*The classroom is very broad and well designed.\\r\\n*Huge sports ground for playing & attended ing certain programs and events.\\r\\nLanguage, literature, drawing, painting, etc are so many students who participated in these clubs Placement -*6th,7th,8th students are eligible for the campus placements\\r\\n*Hcl, Infosys, TCS, etc are the companies are visited, they made so many offers for the students.\\r\\n* 10 LPA are the highest salary and average salary are 4 lpa had better for the CSE and ECE students are eligible.\\r\\n*Minimum65% students are eligible for the campus selection.\\r\\n*I plan to study MBA in abroad. Course Curriculum -* I love the communication system and interested in that very much.\\r\\n*Faculty are more for teaching the subjects and also students are full in classes.\\r\\nThe qualification of faculty are PhD,m.tech, graduate completed every teacher.\\r\\nThere are two term exam s conducted for every year.it is moderate for pass the exam s '}\n",
            "{'College Name': ' Delhi Technological University - [DTU], New Delhi', 'Reviews': 'Placement -Students are eligible to sit for placement in 4th year. Many good companies come here to recruit. To name a few Adobe, Airtel, TCS, Qualcomm etc. Come here almost every year. Highest package is 1 crore for abroad and around 50 Lakh for India. Scholarship -Fee hike 10% every year and its same for all students of BTech in that particular academic year. Scholarships are available but hard to get. Inhouse scholarship is rarely offered but scholarship from state government is easier to obtain. Campus Life -Engifest is one of the best fest across Delhi. DTU has large area for such fests. There is footfall of aprox 2 lakh on Engifest. Techfest is namesake hardly anyone outside College come. Yuvaan also has decent football. '}\n",
            "{'College Name': ' Marine Engineering And Research Institute - [MERI], Mumbai', 'Reviews': \"Course Curriculum -I choose BTech marine engineering as it is an engineering and if I dint get selected in any of the company then I would have many choices such as bank and other govt jobs.\\r\\nFaculty of the college is too good.\\r\\nMany of our teachers are passed out of IIT and NITs so they have vast knowledge about the topic they teach.\\r\\nWe have 3 internals and 1 external every 6 months of period. And not very difficult. Placement -6th semester is the time. when the students are eligible for campus placements. And I think it's the best time for students to grab such a big opportunity. There are many companies that visit SR shipping, maseark, Tolani, MSc. These big companies also visit our college to pick the best students from our college. Starting package is 5-6 lacks. I'll also try in the campus placements Campus Life -The annual fest of our college is pryan. And it's one of the best and biggest fests in Imus and very famous in Mumbai. Everything is organised by college students.\\r\\nClassrooms and other facilities are very good. everything is under CCTV.\\r\\nSports and other clubs activities are too good.\\r\\nEverything is there are sports \"}\n",
            "{'College Name': ' DPG Polytechnic, Gurgaon', 'Reviews': \"Course Curriculum -I chose computer science course because they are trending course and technology e, is best and I am interested in technology in computer interest in coding so I will choices computer science. The student in one class is approx 40 to 35 students teachers are a good teacher they are both types of teaching theory and practical also are good teachers and teach best in 1 semester only one final exam and national exam are conduct the final exam conduct in own college but teachers from other colleges. Campus Life -The library is also available in college and books all types of books are provided the classroom is good and maintain sports are also in college and more activities every year the college is doing sports stay for one week and they are best also the students in the annual day make programs projects. Scholarship -In dpg polytechnic, the one semester's fees are 20,000 and the whole year is 40000 and who is entrance exam is good the fees is less to another student. The scholarship is good big companies are available for getting jobs and the salary is 8 to 12 to 15000 in starting. \"}\n",
            "{'College Name': ' Gandhi Institute for Education and Technology - [GIET], Khorda', 'Reviews': \"Course Curriculum -Course curriculum as per our university i.e. BIJU PATNAIK UNIVERSITY OF TECHNOLOGY, ROURKELA, ODISHA which is CBCS(choice based credit system). You will be awarded minor specialization subject also it means dual benefits. \\r\\nFaculty is good & more knowledgeable you will be get benefited. They will help you whenever the need for your studies. The ratio of faculty-student is approx 1:5. Most of the faculty are M.tech, PhD holders. Some of them are also a scholar. \\r\\nDuring your 4 years, of course, t... Placement -Students of semester 8 can participate in the company's placement as per their desire. My suggestion is before to take part in placements you should proper knowledge from T & P department because there is some strange rule to take part in placement(about Hidden fees).\\r\\nIn this college, there's come so many companies from which some of famous are infinite solutions, Wipro, Bajaj Motors, hero motoCorp, SEPCO3, shards motors and many more. Average salary is 15k-18k/month & highest package is 40k-42... Scholarship -Fees structure is not so high(in session 2016-20)  it means you can afford it. & If you have a problem related to your fees you can also take education loan via any nationalized bank ( my suggestion is not to take a loan from the private loan, because in private bank rate of interest is high), it will help you for your studies. In this college, you deposit your fees in instalments or you can also your pay in a once.\\r\\nThere's also a scholarship facility for students if student applying for a scho... \"}\n",
            "{'College Name': ' Sir C R Reddy College of Engineering, Eluru', 'Reviews': 'Placement -From 4-1, the students are eligible for campus selection. The companies visited in our college are TCS, Infosys, Wipro, HCL Technologies, Mindtree and so many companies visited.  Every year placements are increasing in our college. My plans after the degree are to job. Campus Life -Life is good and there are annual fests and freshers party for first years by second-year students.\\r\\nSports activities like cricket, basketball and kabaddi are conducted in our college.\\r\\nThere are amenities in the classroom like blackboard and benches. Scholarship -The government provides fee reimbursement nowadays government providing full reimbursement so students can only pay building fund etc of 6000. Job opportunities are good at college companies to visit our college. Fee hike sometimes. '}\n",
            "{'College Name': ' Lakshmi Narain College of Technology & Science - [LNCTS], Bhopal', 'Reviews': 'Placement -*From 7th semester \\r\\n*Cognigent,TCS,Wipro,Infosys,Capgemini,Amdocs,ValueLabs,PrismCement, amazon,Asi Glasses,L&T,LTI,Byjus,Vedantu,VM Ware,Persistent and many more companies visits Campus for plavement.\\r\\n*Highest Package 24 Lakhs P.A, Avg Package 4.7 Lakhs. Profile as per qualification and stream is provided.\\r\\n*96.7% placement percentage, only those student who goes for some other preparation not gets placed.\\r\\n*I got an offer from Toppr.Com and Prism Cement but I had my own startup plans and I a... Scholarship -College Fees includes Education fee, Transportation fee, And few extra fees which are worth it as per facilities provided.\\r\\nEveryone gets books from the library itself per semester and also two library cards to issue extra books as per their needs.\\r\\nAll govt scholarships like state govt students scholarships are allowed, also can get some relaxation if management convinced with your reasons. The placement record is the best in that region, the avg package is 4.2Lac/annum Campus Life -*Planet Engineers, Srishti, Engineering Olympics,\\r\\nAlternate each semester.\\r\\n*Yes\\r\\n*Digital Classroom, Seminar Hall, Auditorium, Open Theatre.\\r\\n*Cricket,Kabaddi,Table tennis,Badminton,Volley Ball,indoor Games,Basket Ball,etc Dancing,Singing,Acting Clubs.\\r\\n*RaahatClub,Nss,Ncc,Quest Nature Club,Orators Club,Literary Club, Photography Club,E-Cell,Music Club,UDBHAV-The Dramatics Club. '}\n",
            "{'College Name': ' Sambhram Institute of Technology - [SAIT], Bangalore', 'Reviews': \"Course Curriculum -The fees for each year through kcet is 72,000 which is less compared to students who join through management. The Money is worth it because the faculty is good, the infrastructure provided doesn't have any problems with it and at the same time, the college is really supportive along with the placement cell which all helps in making the college environment healthy for competition. Campus Life -The campus life is full of fun and really happening. We have a basketball court and throwball ground. The college is full of greenery and it's always clean. Our college also has two cafes which provide hygienic food and beverages. The students here come from all backgrounds and from different countries. The college is easily accessible with bus facilities. Scholarship -The placement process is good. They try their level best to get all possible companies. College is very supportive and tries to place all the students. Placement department helps us to improve soft skills and provides all necessary training to crack interview rounds. \"}\n",
            "{'College Name': ' Kamala Institute of Technology & Science- [KITS], Karim Nagar', 'Reviews': \"Campus Life -The annual fest for every year is conducted to welcome freshers and to send off final years. The college fest was divided individually\\r\\nAnd a fest conducted for every two years which involved the whole college. The availability of books in the college Library were academic books and some biography and news articles and others Naac , NCC. Placement -From the end of 6th sem, the college placements are eligible students. TCS company: The highest package was 10lakh per annum and the lowest package was 5 lakh per annum. The students getting placements in college was 40 percentage. My plans after the BTech was to abroad and complete my Master's. Course Curriculum -I have chosen civil engineering because of personal interest from the school. The faculty was good enough not so experienced but they are at their best. M.tech studied lecturers,  6 months term examinations and difficult to pass the Examination under jntuh. \"}\n",
            "{'College Name': ' A.P.C. Ray Polytechnic- [APCRP], Kolkata', 'Reviews': 'Campus Life -There is a fest for the fresher welcome and a cultural annual fest organised by students union every year.\\r\\nThere is a well-equiped library in this college with many books of various subjects.\\r\\nThere are clean and well classrooms and there are also some smart classrooms.\\r\\nEvery year a sports competition(Either cricket or football) organised by the students union.\\r\\nThere is a Facebook page of this college. Placement -From 5th semester students are eligible for placement. \\r\\nThere are some reputed companies like L&T, Tata voltas, Tata Power, L&T infotech, ITC, MN Dastur etc are recruiting students from our college.\\r\\nThe highest CTC is around 3 LPA and the average is 1.44lpa.\\r\\nAlmost 80-85% of students get placed every year.\\r\\nI want to pursue my higher study after passing. Course Curriculum -As I am interested in physics and I found more applications of physics in mechanical so I choose this stream.\\r\\nThe faculty and student ratio in this college is about 1:15.\\r\\nMost of the teachers are M.Tech and they are very much experienced. They teach from basic and clear your doubts.\\r\\nThere are 2 semesters duration of almost 6 months in a year. '}\n",
            "{'College Name': ' Jerusalem College of Engineering - [JCE], Chennai', 'Reviews': \"Campus Life -The fest that happens always is food festival and carnival namely book exhibition and another kind of stuff according to their wills and opportunities at that time. For the books and journals, magazines are very familiar with the indoors and students because there are many ways to earn to learn a book by lending a book easily. \\r\\nRoughly and briefly we can tell there are many sports and games especially indoors based sports are very popular in our campus and there are some kinds of clubs are runn... Placement -Moreover, we arrived at the topic based on placement offers in our college. right yeah, you're having numerous opportunities in our college campus placement including stipend based jobs for the students who played well in their semesters so far we can know that the college can afford only chance to get the job but they can't guarantee you of it that's the main reason all students are getting disqualified due to their misuse.  Then the minimum package of the job may differ from companies you get.... Scholarship -The fees structure may differ to your community and your caste, for the minimum fees is 20000 for all years of the students. \\r\\nYou can also submit your first graduation certificate to get 25000 off on your fees, there are even more good and capable of scholarships under your academic year when you studying in their college.  According to the source of knowledge and skill is  more than enough to get an expensive job in your campus placement, the stipend may differ according to your job and the co... \"}\n",
            "{'College Name': ' Visvesvaraya Technological University - [VTU], Belgaum', 'Reviews': \"Course Curriculum -I always wanted to be a software developer so that's the reason after 10th I took admission in diploma CSE rather preferring 12th, after completing diploma I took admission in KBNCE college for B.tech CSE where I have learned lots of things from my lecturers as they are highly trained and completed their Ph.D. research so its good to learn from them. The ratio for students is like 100 students per semester. Exams will be conducted semester wise there will be two semesters in a year. Scholarship -Per year the fees are like 50000 excluding books and other necessary things. For books and other necessary things, 30000 exact is needed in which transportation cost is also added. So we apply for scholarship NSP. Regarding campus jobs, there are no placements in this college so I never attend any campus interviews. Campus Life -There are many college fests like women's day celebration during which all the college female staff and students need to participate in various different activities for a week. Inter society fest in which the whole college participate and compete against other college but in same society of the college. \"}\n",
            "{'College Name': ' DIT University - [DIT], Dehradun', 'Reviews': \"Course Curriculum -I always had an interest in computers from my school days and was very keen to pursue more in this field that why I chose this course. The faculty of the college is very good and focuses on every course. The computer science teachers have done PhD from IITs and are very experienced in this field. One semester is of 5 months in which you have quizez midterms and end terms accordingly. Placement -From 4th year students become eligible for campus placements. A large number of companies have visited the university for placement it's difficult to name them all. The highest package was around 30 lakhs given by amazon. Around 80% of students get campus placement easily. I want to be a software engineer after completing my degree. Campus Life -The annual fest of the college is called youthiapa and also many tech fests are held after few months for every branch students.\\r\\nThe library is well maintained and contains a huge variety of books to study. Students can issue a book of their choice. \"}\n",
            "{'College Name': ' Bundelkhand Institute of Engineering & Technology - [BIET], Jhansi', 'Reviews': \"Scholarship -If we talk about fees, the college is affordable for all the sections of the society as it is a government college and the fees are comparatively less than the private colleges. Total fees will cost you about 85,000 which includes hostel fees as well. There is a very good facility of scholarship for the needy students and almost everyone who applies for it, gets it. So, you won't face any economical or financial issue over here. Along with this, there are schemes like Pragati Scholarship for gir... Campus Life -The life at the campus is pretty good here and the senior-junior bonds are very special for making it so. There are various events throughout the year which help the students to evolve and develop their personality. There are various literary events like SOPAN, Magnumopus; sports events like Prabhanjan, Pace; technical events like Techzion; Abhinandan-Freshers; Utsav-Farewell and branch wise fresher's as well. Placement -The placements in the college range from average to good. The average package for every year is about 6 to 7 lakhs PA and around 70% of the students get placed every year. The well-reputed companies come here to recruit the students for good and reputed positions like software engineer, cybersecurity analyst, marketing manager and so on. \"}\n",
            "{'College Name': ' Jaypee University of Engineering and Technology - [JUET], Guna', 'Reviews': \"Placement -After the 6 sem students are eligible for campus placement. Many companies' visit the campus like Infosys, TCS, Wipro, Amazon, byju many more. Above 100% placement record. My plan after getting a degree is getting a job on MNC company. Course Curriculum -The faculty is very good and majority faculty is from iitian or nitien. The exam is conducted very smoothly on time we get an academic calendar before the semester all the exam are held according to the academic calendar. Campus Life -College conduct annual fest of 5 to 10 days in which students enjoy. Library (e-learning) is good the availability of book is too high, juet also conduct many sports event in yearly wise, clubs are CSI and many more. \"}\n",
            "{'College Name': ' Gayatri Vidya Parishad College for Degree and PG Courses, School of Engineering, Visakhapatnam', 'Reviews': 'Campus Life -There is no name for the annual fest. The last tech fest was \"Hogwarts\" in the month of March. Also, the annual day is celebrated at that time.  They are a lot of competitive books and other related books for subjects that are available in the library. Also, they are journals in our library. Some of them I know are IEEE journal, IETE journal, and CSI journal. There is a separate room for sports and also sir where he will conduct games.  Other extra-circular activities are conducted by faculty me... Course Curriculum -I have chosen this course as the fact that they are a large scope for Electronics. The faculty are kind to us. They help us out in sorting our mistakes before the exams. Also, they encourage us to projects and try to help us during the process of making. They are 10 faculties out of this 2 members are Ph.D.\\'s and 3 members are applied for Ph.D.\\'s. The mid exams were moderate and semester exams are cannot be predicted. The teaching of faculties was good. They use modern tools to teach the class a... Placement -The placement session is good. They gave us an online written portal so that I can clear the written round. For the interview round, CRT is being conducted by the college. Some of them that visited are TCS, Wipro, Airtel, Veda labs, etc. The percentage for getting placements depends on each company but in college, the minimum student should have 70 percent in the overall semester. '}\n",
            "{'College Name': ' Meghnad Saha Institute of Technology - [MSIT], Kolkata', 'Reviews': \"Course Curriculum -This course is offered by TCS. So we have a very good opportunity for placement and also for future studies. We are the first batch of CSBS and we have a total seat of 30 students. 26 took admission this year. Teachers are so helpful and good as their academic qualification. You need to follow every class. If you want a good result you have to study a regular basis and follow class notes, reference books etc. To pass the subjects is not so tough but you have to score well for placement. So you h... Campus Life -In the college, every year fest's are arranged. Many students participate in those. This fest is conducted in the beginning for freshers. You can take your semesters books from the library. The librarian is very good. Classrooms are like our school classroom. You will feel like a school in the college classroom. Cricket, Football and other games are played on the campus. You will find many clubs, groups etc run by those college students. Placement -Placement cell is good. Not 100% of students placed on college placement but almost 70-80% of students placed through placement. You can take an eye on the college main website for placement details of previous 3 or 5 years and also find those names who were placed through placement. TCS, Cognizant, are mass recruiters for Kolkata students. \"}\n",
            "{'College Name': ' Srinivasa Ramanujan Institute of Technology - [SRIT], Ananthapur', 'Reviews': \"Internship -Internshala is one of the best to provide internships to students \\r\\nMany of the students are joined and doing internships \\r\\nMany projects have been done by our college seniors \\r\\nSuch as electric bikes, drones, car safety system, driving safety and etc\\r\\nMany projects have been done by the final year students Placement -From 7-8 semesters placements will happen\\r\\nEvery student who completes there BTech without backlogs will get the job \\r\\nThe job interview will be based on the student's talent \\r\\nIn our college TCS, Tech Mahindra, Byju’s, Vespa and etc\\r\\n4-5L PA\\r\\nAbove 60%\\r\\nI am planning to go for higher studies Campus Life -Every annual fest is celebrated in grand \\r\\nAll types of books are available in the library \\r\\nWhen coming to sports cricket, basketball, football, tennis, etc all activities will be going based on the schedule \\r\\nToast Master club is the club in which we can learn to speak English fluently \"}\n"
          ],
          "name": "stdout"
        }
      ]
    },
    {
      "cell_type": "code",
      "metadata": {
        "colab": {
          "base_uri": "https://localhost:8080/"
        },
        "id": "9DofMojor-Oa",
        "outputId": "99eeceb3-a5db-4003-de5b-5f787c13fc89"
      },
      "source": [
        "li"
      ],
      "execution_count": 62,
      "outputs": [
        {
          "output_type": "execute_result",
          "data": {
            "text/plain": [
              "[{'College Name': ' Ramrao Adik Institute of Technology - [RAIT], Navi Mumbai',\n",
              "  'Reviews': 'Campus Life -1. It is a great platform to showcase your talent, whether it is related to technology or fine arts. There are about 15 councils in the college, which organize events and workshops like tech fests, technical workshops, dance, music, fine arts, drama, play, sports and whatnot. Right at the top of these councils is the Student Union Council, or abbreviated as SUC. It is the apex student body of the college. The SUC is the body to go-to for any grievances. It also organizes the annual cultural fest... Course Curriculum -1.  The most important reason for choosing Electronics branch because it provides me with freedom. the freedom to drift between the hardware field and software field.\\r\\n2. Teacher students ratio is kept to maintain a better quality of education, better understanding, better teaching. It is maintained to keep teacher and learner active. If the ideal ratio is kept, it becomes easy for a teacher to give the better result and to give better attention to the students.\\r\\n3. All the teachers are very hel... Placement -1.Students become eligible for campus placements from sem 6 if you are not having any backlogs.\\r\\n2.TCS, Wipro, Tech Mahindra, JP Morgan, Morgan Stanley, BYJUS, L&T Infotech and many more MNC companies visited the campus.\\r\\n3.The highest package offered was 15lap and the average package that students get is 3.0 LPA.\\r\\n4.The percentage of students getting placed from campus is 90%\\r\\n5.Getting a job in a reputed organization where I can utilize my skills for the betterment of the organization. '},\n",
              " {'College Name': ' Maharaja Agrasen Institute of Technology - [MAIT], New Delhi',\n",
              "  'Reviews': \"Campus Life -They have possible every lab in our campus whether it is technical, management, the moot court for law students, a smart class for architecture ones, chemistry lab for pharmacy students, and workshop for engineering dept. They organise several extracurricular activities on regular basis. They also organise the sports meet every year and have several courts and ground on the campus itself. Scholarship -Fee Structure is almost the same for all branches i.e Around 1.31 Lakh per year.\\r\\nScholarship opportunities are available for qualified and deserving students. You'll get to know about that by respective Faculties. Jobs are also available good placement as compared to other IP University. Course Curriculum -Faculty for the respective courses are well experienced and have very good knowledge in their fields. The lab attendants are also well experienced from the companies itself. Librarian, technician, attendants all are very helping and cooperative. \"},\n",
              " {'College Name': ' NBKR Institute of Science and Technology Vidyanagar - [NBKRIST], Nellore',\n",
              "  'Reviews': 'Campus Life -*fest is conducted every month. The names are changed according to year\\r\\n*All  books are available in the library and journals are also available in the library for better study\\r\\n*The classroom is very broad and well designed.\\r\\n*Huge sports ground for playing & attended ing certain programs and events.\\r\\nLanguage, literature, drawing, painting, etc are so many students who participated in these clubs Placement -*6th,7th,8th students are eligible for the campus placements\\r\\n*Hcl, Infosys, TCS, etc are the companies are visited, they made so many offers for the students.\\r\\n* 10 LPA are the highest salary and average salary are 4 lpa had better for the CSE and ECE students are eligible.\\r\\n*Minimum65% students are eligible for the campus selection.\\r\\n*I plan to study MBA in abroad. Course Curriculum -* I love the communication system and interested in that very much.\\r\\n*Faculty are more for teaching the subjects and also students are full in classes.\\r\\nThe qualification of faculty are PhD,m.tech, graduate completed every teacher.\\r\\nThere are two term exam s conducted for every year.it is moderate for pass the exam s '},\n",
              " {'College Name': ' Delhi Technological University - [DTU], New Delhi',\n",
              "  'Reviews': 'Placement -Students are eligible to sit for placement in 4th year. Many good companies come here to recruit. To name a few Adobe, Airtel, TCS, Qualcomm etc. Come here almost every year. Highest package is 1 crore for abroad and around 50 Lakh for India. Scholarship -Fee hike 10% every year and its same for all students of BTech in that particular academic year. Scholarships are available but hard to get. Inhouse scholarship is rarely offered but scholarship from state government is easier to obtain. Campus Life -Engifest is one of the best fest across Delhi. DTU has large area for such fests. There is footfall of aprox 2 lakh on Engifest. Techfest is namesake hardly anyone outside College come. Yuvaan also has decent football. '},\n",
              " {'College Name': ' Marine Engineering And Research Institute - [MERI], Mumbai',\n",
              "  'Reviews': \"Course Curriculum -I choose BTech marine engineering as it is an engineering and if I dint get selected in any of the company then I would have many choices such as bank and other govt jobs.\\r\\nFaculty of the college is too good.\\r\\nMany of our teachers are passed out of IIT and NITs so they have vast knowledge about the topic they teach.\\r\\nWe have 3 internals and 1 external every 6 months of period. And not very difficult. Placement -6th semester is the time. when the students are eligible for campus placements. And I think it's the best time for students to grab such a big opportunity. There are many companies that visit SR shipping, maseark, Tolani, MSc. These big companies also visit our college to pick the best students from our college. Starting package is 5-6 lacks. I'll also try in the campus placements Campus Life -The annual fest of our college is pryan. And it's one of the best and biggest fests in Imus and very famous in Mumbai. Everything is organised by college students.\\r\\nClassrooms and other facilities are very good. everything is under CCTV.\\r\\nSports and other clubs activities are too good.\\r\\nEverything is there are sports \"},\n",
              " {'College Name': ' DPG Polytechnic, Gurgaon',\n",
              "  'Reviews': \"Course Curriculum -I chose computer science course because they are trending course and technology e, is best and I am interested in technology in computer interest in coding so I will choices computer science. The student in one class is approx 40 to 35 students teachers are a good teacher they are both types of teaching theory and practical also are good teachers and teach best in 1 semester only one final exam and national exam are conduct the final exam conduct in own college but teachers from other colleges. Campus Life -The library is also available in college and books all types of books are provided the classroom is good and maintain sports are also in college and more activities every year the college is doing sports stay for one week and they are best also the students in the annual day make programs projects. Scholarship -In dpg polytechnic, the one semester's fees are 20,000 and the whole year is 40000 and who is entrance exam is good the fees is less to another student. The scholarship is good big companies are available for getting jobs and the salary is 8 to 12 to 15000 in starting. \"},\n",
              " {'College Name': ' Gandhi Institute for Education and Technology - [GIET], Khorda',\n",
              "  'Reviews': \"Course Curriculum -Course curriculum as per our university i.e. BIJU PATNAIK UNIVERSITY OF TECHNOLOGY, ROURKELA, ODISHA which is CBCS(choice based credit system). You will be awarded minor specialization subject also it means dual benefits. \\r\\nFaculty is good & more knowledgeable you will be get benefited. They will help you whenever the need for your studies. The ratio of faculty-student is approx 1:5. Most of the faculty are M.tech, PhD holders. Some of them are also a scholar. \\r\\nDuring your 4 years, of course, t... Placement -Students of semester 8 can participate in the company's placement as per their desire. My suggestion is before to take part in placements you should proper knowledge from T & P department because there is some strange rule to take part in placement(about Hidden fees).\\r\\nIn this college, there's come so many companies from which some of famous are infinite solutions, Wipro, Bajaj Motors, hero motoCorp, SEPCO3, shards motors and many more. Average salary is 15k-18k/month & highest package is 40k-42... Scholarship -Fees structure is not so high(in session 2016-20)  it means you can afford it. & If you have a problem related to your fees you can also take education loan via any nationalized bank ( my suggestion is not to take a loan from the private loan, because in private bank rate of interest is high), it will help you for your studies. In this college, you deposit your fees in instalments or you can also your pay in a once.\\r\\nThere's also a scholarship facility for students if student applying for a scho... \"},\n",
              " {'College Name': ' Sir C R Reddy College of Engineering, Eluru',\n",
              "  'Reviews': 'Placement -From 4-1, the students are eligible for campus selection. The companies visited in our college are TCS, Infosys, Wipro, HCL Technologies, Mindtree and so many companies visited.  Every year placements are increasing in our college. My plans after the degree are to job. Campus Life -Life is good and there are annual fests and freshers party for first years by second-year students.\\r\\nSports activities like cricket, basketball and kabaddi are conducted in our college.\\r\\nThere are amenities in the classroom like blackboard and benches. Scholarship -The government provides fee reimbursement nowadays government providing full reimbursement so students can only pay building fund etc of 6000. Job opportunities are good at college companies to visit our college. Fee hike sometimes. '},\n",
              " {'College Name': ' Lakshmi Narain College of Technology & Science - [LNCTS], Bhopal',\n",
              "  'Reviews': 'Placement -*From 7th semester \\r\\n*Cognigent,TCS,Wipro,Infosys,Capgemini,Amdocs,ValueLabs,PrismCement, amazon,Asi Glasses,L&T,LTI,Byjus,Vedantu,VM Ware,Persistent and many more companies visits Campus for plavement.\\r\\n*Highest Package 24 Lakhs P.A, Avg Package 4.7 Lakhs. Profile as per qualification and stream is provided.\\r\\n*96.7% placement percentage, only those student who goes for some other preparation not gets placed.\\r\\n*I got an offer from Toppr.Com and Prism Cement but I had my own startup plans and I a... Scholarship -College Fees includes Education fee, Transportation fee, And few extra fees which are worth it as per facilities provided.\\r\\nEveryone gets books from the library itself per semester and also two library cards to issue extra books as per their needs.\\r\\nAll govt scholarships like state govt students scholarships are allowed, also can get some relaxation if management convinced with your reasons. The placement record is the best in that region, the avg package is 4.2Lac/annum Campus Life -*Planet Engineers, Srishti, Engineering Olympics,\\r\\nAlternate each semester.\\r\\n*Yes\\r\\n*Digital Classroom, Seminar Hall, Auditorium, Open Theatre.\\r\\n*Cricket,Kabaddi,Table tennis,Badminton,Volley Ball,indoor Games,Basket Ball,etc Dancing,Singing,Acting Clubs.\\r\\n*RaahatClub,Nss,Ncc,Quest Nature Club,Orators Club,Literary Club, Photography Club,E-Cell,Music Club,UDBHAV-The Dramatics Club. '},\n",
              " {'College Name': ' Sambhram Institute of Technology - [SAIT], Bangalore',\n",
              "  'Reviews': \"Course Curriculum -The fees for each year through kcet is 72,000 which is less compared to students who join through management. The Money is worth it because the faculty is good, the infrastructure provided doesn't have any problems with it and at the same time, the college is really supportive along with the placement cell which all helps in making the college environment healthy for competition. Campus Life -The campus life is full of fun and really happening. We have a basketball court and throwball ground. The college is full of greenery and it's always clean. Our college also has two cafes which provide hygienic food and beverages. The students here come from all backgrounds and from different countries. The college is easily accessible with bus facilities. Scholarship -The placement process is good. They try their level best to get all possible companies. College is very supportive and tries to place all the students. Placement department helps us to improve soft skills and provides all necessary training to crack interview rounds. \"},\n",
              " {'College Name': ' Kamala Institute of Technology & Science- [KITS], Karim Nagar',\n",
              "  'Reviews': \"Campus Life -The annual fest for every year is conducted to welcome freshers and to send off final years. The college fest was divided individually\\r\\nAnd a fest conducted for every two years which involved the whole college. The availability of books in the college Library were academic books and some biography and news articles and others Naac , NCC. Placement -From the end of 6th sem, the college placements are eligible students. TCS company: The highest package was 10lakh per annum and the lowest package was 5 lakh per annum. The students getting placements in college was 40 percentage. My plans after the BTech was to abroad and complete my Master's. Course Curriculum -I have chosen civil engineering because of personal interest from the school. The faculty was good enough not so experienced but they are at their best. M.tech studied lecturers,  6 months term examinations and difficult to pass the Examination under jntuh. \"},\n",
              " {'College Name': ' A.P.C. Ray Polytechnic- [APCRP], Kolkata',\n",
              "  'Reviews': 'Campus Life -There is a fest for the fresher welcome and a cultural annual fest organised by students union every year.\\r\\nThere is a well-equiped library in this college with many books of various subjects.\\r\\nThere are clean and well classrooms and there are also some smart classrooms.\\r\\nEvery year a sports competition(Either cricket or football) organised by the students union.\\r\\nThere is a Facebook page of this college. Placement -From 5th semester students are eligible for placement. \\r\\nThere are some reputed companies like L&T, Tata voltas, Tata Power, L&T infotech, ITC, MN Dastur etc are recruiting students from our college.\\r\\nThe highest CTC is around 3 LPA and the average is 1.44lpa.\\r\\nAlmost 80-85% of students get placed every year.\\r\\nI want to pursue my higher study after passing. Course Curriculum -As I am interested in physics and I found more applications of physics in mechanical so I choose this stream.\\r\\nThe faculty and student ratio in this college is about 1:15.\\r\\nMost of the teachers are M.Tech and they are very much experienced. They teach from basic and clear your doubts.\\r\\nThere are 2 semesters duration of almost 6 months in a year. '},\n",
              " {'College Name': ' Jerusalem College of Engineering - [JCE], Chennai',\n",
              "  'Reviews': \"Campus Life -The fest that happens always is food festival and carnival namely book exhibition and another kind of stuff according to their wills and opportunities at that time. For the books and journals, magazines are very familiar with the indoors and students because there are many ways to earn to learn a book by lending a book easily. \\r\\nRoughly and briefly we can tell there are many sports and games especially indoors based sports are very popular in our campus and there are some kinds of clubs are runn... Placement -Moreover, we arrived at the topic based on placement offers in our college. right yeah, you're having numerous opportunities in our college campus placement including stipend based jobs for the students who played well in their semesters so far we can know that the college can afford only chance to get the job but they can't guarantee you of it that's the main reason all students are getting disqualified due to their misuse.  Then the minimum package of the job may differ from companies you get.... Scholarship -The fees structure may differ to your community and your caste, for the minimum fees is 20000 for all years of the students. \\r\\nYou can also submit your first graduation certificate to get 25000 off on your fees, there are even more good and capable of scholarships under your academic year when you studying in their college.  According to the source of knowledge and skill is  more than enough to get an expensive job in your campus placement, the stipend may differ according to your job and the co... \"},\n",
              " {'College Name': ' Visvesvaraya Technological University - [VTU], Belgaum',\n",
              "  'Reviews': \"Course Curriculum -I always wanted to be a software developer so that's the reason after 10th I took admission in diploma CSE rather preferring 12th, after completing diploma I took admission in KBNCE college for B.tech CSE where I have learned lots of things from my lecturers as they are highly trained and completed their Ph.D. research so its good to learn from them. The ratio for students is like 100 students per semester. Exams will be conducted semester wise there will be two semesters in a year. Scholarship -Per year the fees are like 50000 excluding books and other necessary things. For books and other necessary things, 30000 exact is needed in which transportation cost is also added. So we apply for scholarship NSP. Regarding campus jobs, there are no placements in this college so I never attend any campus interviews. Campus Life -There are many college fests like women's day celebration during which all the college female staff and students need to participate in various different activities for a week. Inter society fest in which the whole college participate and compete against other college but in same society of the college. \"},\n",
              " {'College Name': ' DIT University - [DIT], Dehradun',\n",
              "  'Reviews': \"Course Curriculum -I always had an interest in computers from my school days and was very keen to pursue more in this field that why I chose this course. The faculty of the college is very good and focuses on every course. The computer science teachers have done PhD from IITs and are very experienced in this field. One semester is of 5 months in which you have quizez midterms and end terms accordingly. Placement -From 4th year students become eligible for campus placements. A large number of companies have visited the university for placement it's difficult to name them all. The highest package was around 30 lakhs given by amazon. Around 80% of students get campus placement easily. I want to be a software engineer after completing my degree. Campus Life -The annual fest of the college is called youthiapa and also many tech fests are held after few months for every branch students.\\r\\nThe library is well maintained and contains a huge variety of books to study. Students can issue a book of their choice. \"},\n",
              " {'College Name': ' Bundelkhand Institute of Engineering & Technology - [BIET], Jhansi',\n",
              "  'Reviews': \"Scholarship -If we talk about fees, the college is affordable for all the sections of the society as it is a government college and the fees are comparatively less than the private colleges. Total fees will cost you about 85,000 which includes hostel fees as well. There is a very good facility of scholarship for the needy students and almost everyone who applies for it, gets it. So, you won't face any economical or financial issue over here. Along with this, there are schemes like Pragati Scholarship for gir... Campus Life -The life at the campus is pretty good here and the senior-junior bonds are very special for making it so. There are various events throughout the year which help the students to evolve and develop their personality. There are various literary events like SOPAN, Magnumopus; sports events like Prabhanjan, Pace; technical events like Techzion; Abhinandan-Freshers; Utsav-Farewell and branch wise fresher's as well. Placement -The placements in the college range from average to good. The average package for every year is about 6 to 7 lakhs PA and around 70% of the students get placed every year. The well-reputed companies come here to recruit the students for good and reputed positions like software engineer, cybersecurity analyst, marketing manager and so on. \"},\n",
              " {'College Name': ' Jaypee University of Engineering and Technology - [JUET], Guna',\n",
              "  'Reviews': \"Placement -After the 6 sem students are eligible for campus placement. Many companies' visit the campus like Infosys, TCS, Wipro, Amazon, byju many more. Above 100% placement record. My plan after getting a degree is getting a job on MNC company. Course Curriculum -The faculty is very good and majority faculty is from iitian or nitien. The exam is conducted very smoothly on time we get an academic calendar before the semester all the exam are held according to the academic calendar. Campus Life -College conduct annual fest of 5 to 10 days in which students enjoy. Library (e-learning) is good the availability of book is too high, juet also conduct many sports event in yearly wise, clubs are CSI and many more. \"},\n",
              " {'College Name': ' Gayatri Vidya Parishad College for Degree and PG Courses, School of Engineering, Visakhapatnam',\n",
              "  'Reviews': 'Campus Life -There is no name for the annual fest. The last tech fest was \"Hogwarts\" in the month of March. Also, the annual day is celebrated at that time.  They are a lot of competitive books and other related books for subjects that are available in the library. Also, they are journals in our library. Some of them I know are IEEE journal, IETE journal, and CSI journal. There is a separate room for sports and also sir where he will conduct games.  Other extra-circular activities are conducted by faculty me... Course Curriculum -I have chosen this course as the fact that they are a large scope for Electronics. The faculty are kind to us. They help us out in sorting our mistakes before the exams. Also, they encourage us to projects and try to help us during the process of making. They are 10 faculties out of this 2 members are Ph.D.\\'s and 3 members are applied for Ph.D.\\'s. The mid exams were moderate and semester exams are cannot be predicted. The teaching of faculties was good. They use modern tools to teach the class a... Placement -The placement session is good. They gave us an online written portal so that I can clear the written round. For the interview round, CRT is being conducted by the college. Some of them that visited are TCS, Wipro, Airtel, Veda labs, etc. The percentage for getting placements depends on each company but in college, the minimum student should have 70 percent in the overall semester. '},\n",
              " {'College Name': ' Meghnad Saha Institute of Technology - [MSIT], Kolkata',\n",
              "  'Reviews': \"Course Curriculum -This course is offered by TCS. So we have a very good opportunity for placement and also for future studies. We are the first batch of CSBS and we have a total seat of 30 students. 26 took admission this year. Teachers are so helpful and good as their academic qualification. You need to follow every class. If you want a good result you have to study a regular basis and follow class notes, reference books etc. To pass the subjects is not so tough but you have to score well for placement. So you h... Campus Life -In the college, every year fest's are arranged. Many students participate in those. This fest is conducted in the beginning for freshers. You can take your semesters books from the library. The librarian is very good. Classrooms are like our school classroom. You will feel like a school in the college classroom. Cricket, Football and other games are played on the campus. You will find many clubs, groups etc run by those college students. Placement -Placement cell is good. Not 100% of students placed on college placement but almost 70-80% of students placed through placement. You can take an eye on the college main website for placement details of previous 3 or 5 years and also find those names who were placed through placement. TCS, Cognizant, are mass recruiters for Kolkata students. \"},\n",
              " {'College Name': ' Srinivasa Ramanujan Institute of Technology - [SRIT], Ananthapur',\n",
              "  'Reviews': \"Internship -Internshala is one of the best to provide internships to students \\r\\nMany of the students are joined and doing internships \\r\\nMany projects have been done by our college seniors \\r\\nSuch as electric bikes, drones, car safety system, driving safety and etc\\r\\nMany projects have been done by the final year students Placement -From 7-8 semesters placements will happen\\r\\nEvery student who completes there BTech without backlogs will get the job \\r\\nThe job interview will be based on the student's talent \\r\\nIn our college TCS, Tech Mahindra, Byju’s, Vespa and etc\\r\\n4-5L PA\\r\\nAbove 60%\\r\\nI am planning to go for higher studies Campus Life -Every annual fest is celebrated in grand \\r\\nAll types of books are available in the library \\r\\nWhen coming to sports cricket, basketball, football, tennis, etc all activities will be going based on the schedule \\r\\nToast Master club is the club in which we can learn to speak English fluently \"}]"
            ]
          },
          "metadata": {
            "tags": []
          },
          "execution_count": 62
        }
      ]
    },
    {
      "cell_type": "code",
      "metadata": {
        "id": "6S80rF2A6sJz"
      },
      "source": [
        "import json"
      ],
      "execution_count": 50,
      "outputs": []
    },
    {
      "cell_type": "code",
      "metadata": {
        "id": "mFEwA-VN8hry"
      },
      "source": [
        "data_file = json.dumps(li)"
      ],
      "execution_count": 64,
      "outputs": []
    },
    {
      "cell_type": "code",
      "metadata": {
        "id": "9pgE0NMr8hoA"
      },
      "source": [
        "with open('data.json','w') as f:\r\n",
        "  f.write(data_file)"
      ],
      "execution_count": 65,
      "outputs": []
    },
    {
      "cell_type": "code",
      "metadata": {
        "id": "Q4lu3kcR8hlH"
      },
      "source": [
        ""
      ],
      "execution_count": null,
      "outputs": []
    },
    {
      "cell_type": "code",
      "metadata": {
        "id": "7iG-YGg19rad"
      },
      "source": [
        "from google.colab import drive\n",
        "drive.mount('/content/drive')"
      ],
      "execution_count": null,
      "outputs": []
    },
    {
      "cell_type": "code",
      "metadata": {
        "id": "AxdfsyKv8hjg"
      },
      "source": [
        ""
      ],
      "execution_count": null,
      "outputs": []
    },
    {
      "cell_type": "code",
      "metadata": {
        "id": "qrXrKIfp8he6"
      },
      "source": [
        ""
      ],
      "execution_count": null,
      "outputs": []
    },
    {
      "cell_type": "code",
      "metadata": {
        "id": "6NireXRR8hUr"
      },
      "source": [
        ""
      ],
      "execution_count": null,
      "outputs": []
    },
    {
      "cell_type": "code",
      "metadata": {
        "id": "0XYlblJ_zyTb"
      },
      "source": [
        "with open('reviewer.txt','w') as f:\r\n",
        "  f.write(str(block))"
      ],
      "execution_count": null,
      "outputs": []
    },
    {
      "cell_type": "code",
      "metadata": {
        "id": "ZpwbKtxP0pGc"
      },
      "source": [
        ""
      ],
      "execution_count": null,
      "outputs": []
    }
  ]
}